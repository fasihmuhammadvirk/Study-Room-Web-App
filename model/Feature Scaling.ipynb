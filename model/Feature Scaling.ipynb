{
 "cells": [
  {
   "cell_type": "markdown",
   "metadata": {},
   "source": [
    "## Featrues Shorted Listed Based on EDA."
   ]
  },
  {
   "cell_type": "code",
   "execution_count": 35,
   "metadata": {},
   "outputs": [],
   "source": [
    "selected_columns = [ 'I opted for this program of study because of my own interest.', 'SGPA in BS First semester',\n",
    "        'SGPA in BS Second semester', 'SGPA in BS Third semester',\n",
    "        'SGPA in BS Fourth semester',\n",
    "        'SGPA in BS Fifth semester','CGPA in BS Fifth semester',\n",
    "        'lecture mode',\n",
    "        'TVFs often reschedule classes that negatively impacts my performance.',\n",
    "        'TVFs do not provide assessment results timely so I remain unaware of my standing in class.',\n",
    "        'TVFs grade students according to their own beliefs and criteria and hence my GPA suffers.',\n",
    "        'An ample amount of time is consumed on daily commuting and all energy is drained during travelling.',\n",
    "        'Due to class/ lab cancellation or roads blockage, lots of time get wasted due to fixed official transport timings.',\n",
    "        'Class Representative (CR) is favored more than any ordinary student as he/ she is in more contact with teachers.',\n",
    "        'Some teachers show more kindness towards female students, and it is clearly reflected in their grades. ',\n",
    "        'Preferential treatment with selective students creates a negative classroom environment and affects the learning experience. ',\n",
    "        'Discrimination negatively effects my mental condition, confidence, and overall engagement in the classroom. ',\n",
    "        'I am usually well prepared for exams but unable to attempt properly due to exam stress.',\n",
    "        'Instructors often miss lectures and arrange makeup classes that further increases my burden.',\n",
    "        'My preferable mode of study is:', 'Lowest Mobile Usage',\n",
    "        'Inter Percentage']"
   ]
  },
  {
   "cell_type": "code",
   "execution_count": 36,
   "metadata": {},
   "outputs": [],
   "source": [
    "import pandas as pd"
   ]
  },
  {
   "cell_type": "code",
   "execution_count": 37,
   "metadata": {},
   "outputs": [],
   "source": [
    "original_dataset = pd.read_csv('student_info_dataset.csv')"
   ]
  },
  {
   "cell_type": "code",
   "execution_count": 38,
   "metadata": {},
   "outputs": [
    {
     "name": "stdout",
     "output_type": "stream",
     "text": [
      "Selected columns saved to 'selected_student_info_dataset.csv'\n"
     ]
    }
   ],
   "source": [
    "# Select the desired columns\n",
    "selected_data = original_dataset[selected_columns]\n",
    "\n",
    "# Save the selected columns to a new CSV file\n",
    "selected_data.to_csv('selected_student_info_dataset.csv', index=False)\n",
    "\n",
    "print(\"Selected columns saved to 'selected_student_info_dataset.csv'\")"
   ]
  },
  {
   "cell_type": "code",
   "execution_count": 39,
   "metadata": {},
   "outputs": [],
   "source": [
    "data = pd.read_csv('selected_student_info_dataset.csv')"
   ]
  },
  {
   "cell_type": "code",
   "execution_count": 40,
   "metadata": {},
   "outputs": [],
   "source": [
    "\n",
    "# Define the columns to be saved and their new names\n",
    "column_mapping = {\n",
    "    'I opted for this program of study because of my own interest.': 'Interest',\n",
    "    'Intermediate percentage': 'Inter',\n",
    "    'SGPA in BS First semester': 'SGPA1',\n",
    "    'SGPA in BS Second semester': 'SGPA2',\n",
    "    'SGPA in BS Third semester': 'SGPA3',\n",
    "    'SGPA in BS Fourth semester': 'SGPA4',\n",
    "    'SGPA in BS Fifth semester': 'SGPA5',\n",
    "    'CGPA in BS Fifth semester': 'CGPA5',\n",
    "    'lecture mode': 'Lecture',\n",
    "    'TVFs often reschedule classes that negatively impacts my performance.': 'TVFs Impact on Performance',\n",
    "    'TVFs do not provide assessment results timely so I remain unaware of my standing in class.': 'Unavailability of Assessment Results',\n",
    "    'TVFs grade students according to their own beliefs and criteria and hence my GPA suffers.': 'TVFs Grading Criteria Impact on GPA',\n",
    "    'An ample amount of time is consumed on daily commuting and all energy is drained during travelling.': 'Time Consumed on Commuting',\n",
    "    'Due to class/ lab cancellation or roads blockage, lots of time get wasted due to fixed official transport timings.': 'Wasted Time Due to Transport Issues',\n",
    "    'Class Representative (CR) is favored more than any ordinary student as he/ she is in more contact with teachers.': 'Favoritism towards CR',\n",
    "    'Some teachers show more kindness towards female students, and it is clearly reflected in their grades. ': 'Kindness towards Female Students',\n",
    "    'Preferential treatment with selective students creates a negative classroom environment and affects the learning experience. ': 'Negative Classroom Environment',\n",
    "    'Discrimination negatively effects my mental condition, confidence, and overall engagement in the classroom. ': 'Discrimination Impact on Mental Condition',\n",
    "    'I am usually well prepared for exams but unable to attempt properly due to exam stress.': 'Exam Stress Impact on Performance',\n",
    "    'Instructors often miss lectures and arrange makeup classes that further increases my burden.': 'Missed Lectures and Makeup Classes Impact',\n",
    "    'My preferable mode of study is:': 'Preferred Study Mode',\n",
    "    'Lowest Mobile Usage': 'Lowest Mobile Usage'\n",
    "}\n",
    "\n"
   ]
  },
  {
   "cell_type": "code",
   "execution_count": 41,
   "metadata": {},
   "outputs": [
    {
     "name": "stdout",
     "output_type": "stream",
     "text": [
      "Renamed and selected columns saved to 'selected_student_info_dataset.csv'\n"
     ]
    }
   ],
   "source": [
    "\n",
    "# Rename the columns\n",
    "data.rename(columns=column_mapping, inplace=True)\n",
    "\n",
    "# Save the renamed columns to a new CSV file\n",
    "data.to_csv('selected_student_info_dataset.csv', index=False)\n",
    "\n",
    "print(\"Renamed and selected columns saved to 'selected_student_info_dataset.csv'\")"
   ]
  },
  {
   "cell_type": "code",
   "execution_count": 42,
   "metadata": {},
   "outputs": [],
   "source": [
    "df = pd.read_csv('selected_student_info_dataset.csv')"
   ]
  },
  {
   "cell_type": "markdown",
   "metadata": {},
   "source": [
    "## Eliminating Features Based on Knowledge of Data"
   ]
  },
  {
   "cell_type": "code",
   "execution_count": 43,
   "metadata": {},
   "outputs": [],
   "source": [
    "df = df.drop(['TVFs Grading Criteria Impact on GPA','Unavailability of Assessment Results','TVFs Grading Criteria Impact on GPA','Wasted Time Due to Transport Issues','Kindness towards Female Students','Discrimination Impact on Mental Condition'], axis = 1)"
   ]
  },
  {
   "cell_type": "code",
   "execution_count": 44,
   "metadata": {},
   "outputs": [],
   "source": [
    "df = df.drop(['Preferred Study Mode','Lowest Mobile Usage','Favoritism towards CR','Missed Lectures and Makeup Classes Impact','Negative Classroom Environment','Favoritism towards CR'], axis = 1)"
   ]
  },
  {
   "cell_type": "code",
   "execution_count": 45,
   "metadata": {},
   "outputs": [],
   "source": [
    "df = df.drop(['TVFs Impact on Performance'],axis=1)"
   ]
  },
  {
   "cell_type": "code",
   "execution_count": 46,
   "metadata": {},
   "outputs": [],
   "source": [
    "df = df.drop(['Lecture'],axis=1)"
   ]
  },
  {
   "cell_type": "code",
   "execution_count": 47,
   "metadata": {},
   "outputs": [
    {
     "data": {
      "text/plain": [
       "(1000, 10)"
      ]
     },
     "execution_count": 47,
     "metadata": {},
     "output_type": "execute_result"
    }
   ],
   "source": [
    "df.shape"
   ]
  },
  {
   "cell_type": "code",
   "execution_count": 48,
   "metadata": {},
   "outputs": [
    {
     "data": {
      "text/html": [
       "<div>\n",
       "<style scoped>\n",
       "    .dataframe tbody tr th:only-of-type {\n",
       "        vertical-align: middle;\n",
       "    }\n",
       "\n",
       "    .dataframe tbody tr th {\n",
       "        vertical-align: top;\n",
       "    }\n",
       "\n",
       "    .dataframe thead th {\n",
       "        text-align: right;\n",
       "    }\n",
       "</style>\n",
       "<table border=\"1\" class=\"dataframe\">\n",
       "  <thead>\n",
       "    <tr style=\"text-align: right;\">\n",
       "      <th></th>\n",
       "      <th>Interest</th>\n",
       "      <th>SGPA1</th>\n",
       "      <th>SGPA2</th>\n",
       "      <th>SGPA3</th>\n",
       "      <th>SGPA4</th>\n",
       "      <th>SGPA5</th>\n",
       "      <th>CGPA5</th>\n",
       "      <th>Time Consumed on Commuting</th>\n",
       "      <th>Exam Stress Impact on Performance</th>\n",
       "      <th>Inter Percentage</th>\n",
       "    </tr>\n",
       "  </thead>\n",
       "  <tbody>\n",
       "    <tr>\n",
       "      <th>0</th>\n",
       "      <td>Agree</td>\n",
       "      <td>2.38</td>\n",
       "      <td>2.93</td>\n",
       "      <td>3.31</td>\n",
       "      <td>2.10</td>\n",
       "      <td>3.68</td>\n",
       "      <td>2.88</td>\n",
       "      <td>Disagree</td>\n",
       "      <td>Strongly disagree</td>\n",
       "      <td>70.91</td>\n",
       "    </tr>\n",
       "    <tr>\n",
       "      <th>1</th>\n",
       "      <td>Strongly Agree</td>\n",
       "      <td>2.05</td>\n",
       "      <td>3.86</td>\n",
       "      <td>3.69</td>\n",
       "      <td>3.02</td>\n",
       "      <td>3.21</td>\n",
       "      <td>3.17</td>\n",
       "      <td>Strongly Agree</td>\n",
       "      <td>Disagree</td>\n",
       "      <td>93.89</td>\n",
       "    </tr>\n",
       "    <tr>\n",
       "      <th>2</th>\n",
       "      <td>Agree</td>\n",
       "      <td>1.23</td>\n",
       "      <td>2.92</td>\n",
       "      <td>3.05</td>\n",
       "      <td>2.94</td>\n",
       "      <td>3.13</td>\n",
       "      <td>2.65</td>\n",
       "      <td>Agree</td>\n",
       "      <td>Strongly Agree</td>\n",
       "      <td>87.03</td>\n",
       "    </tr>\n",
       "    <tr>\n",
       "      <th>3</th>\n",
       "      <td>Neutral</td>\n",
       "      <td>1.80</td>\n",
       "      <td>3.92</td>\n",
       "      <td>3.11</td>\n",
       "      <td>2.60</td>\n",
       "      <td>2.44</td>\n",
       "      <td>2.77</td>\n",
       "      <td>Neutral</td>\n",
       "      <td>Neutral</td>\n",
       "      <td>86.73</td>\n",
       "    </tr>\n",
       "    <tr>\n",
       "      <th>4</th>\n",
       "      <td>Neutral</td>\n",
       "      <td>1.44</td>\n",
       "      <td>2.29</td>\n",
       "      <td>3.87</td>\n",
       "      <td>3.35</td>\n",
       "      <td>2.28</td>\n",
       "      <td>2.65</td>\n",
       "      <td>Disagree</td>\n",
       "      <td>Agree</td>\n",
       "      <td>79.46</td>\n",
       "    </tr>\n",
       "    <tr>\n",
       "      <th>...</th>\n",
       "      <td>...</td>\n",
       "      <td>...</td>\n",
       "      <td>...</td>\n",
       "      <td>...</td>\n",
       "      <td>...</td>\n",
       "      <td>...</td>\n",
       "      <td>...</td>\n",
       "      <td>...</td>\n",
       "      <td>...</td>\n",
       "      <td>...</td>\n",
       "    </tr>\n",
       "    <tr>\n",
       "      <th>995</th>\n",
       "      <td>Agree</td>\n",
       "      <td>1.47</td>\n",
       "      <td>2.21</td>\n",
       "      <td>3.47</td>\n",
       "      <td>2.41</td>\n",
       "      <td>2.70</td>\n",
       "      <td>2.45</td>\n",
       "      <td>Strongly Agree</td>\n",
       "      <td>Neutral</td>\n",
       "      <td>85.87</td>\n",
       "    </tr>\n",
       "    <tr>\n",
       "      <th>996</th>\n",
       "      <td>Strongly Agree</td>\n",
       "      <td>1.59</td>\n",
       "      <td>3.49</td>\n",
       "      <td>3.57</td>\n",
       "      <td>3.43</td>\n",
       "      <td>3.15</td>\n",
       "      <td>3.05</td>\n",
       "      <td>Agree</td>\n",
       "      <td>Neutral</td>\n",
       "      <td>89.37</td>\n",
       "    </tr>\n",
       "    <tr>\n",
       "      <th>997</th>\n",
       "      <td>Neutral</td>\n",
       "      <td>3.19</td>\n",
       "      <td>3.09</td>\n",
       "      <td>3.55</td>\n",
       "      <td>3.10</td>\n",
       "      <td>3.69</td>\n",
       "      <td>3.32</td>\n",
       "      <td>Strongly Agree</td>\n",
       "      <td>Neutral</td>\n",
       "      <td>72.83</td>\n",
       "    </tr>\n",
       "    <tr>\n",
       "      <th>998</th>\n",
       "      <td>Agree</td>\n",
       "      <td>3.55</td>\n",
       "      <td>3.26</td>\n",
       "      <td>2.50</td>\n",
       "      <td>2.14</td>\n",
       "      <td>2.46</td>\n",
       "      <td>2.78</td>\n",
       "      <td>Agree</td>\n",
       "      <td>Strongly Agree</td>\n",
       "      <td>72.73</td>\n",
       "    </tr>\n",
       "    <tr>\n",
       "      <th>999</th>\n",
       "      <td>Agree</td>\n",
       "      <td>1.93</td>\n",
       "      <td>2.90</td>\n",
       "      <td>3.53</td>\n",
       "      <td>3.92</td>\n",
       "      <td>3.78</td>\n",
       "      <td>3.21</td>\n",
       "      <td>Disagree</td>\n",
       "      <td>Neutral</td>\n",
       "      <td>88.63</td>\n",
       "    </tr>\n",
       "  </tbody>\n",
       "</table>\n",
       "<p>1000 rows × 10 columns</p>\n",
       "</div>"
      ],
      "text/plain": [
       "           Interest  SGPA1  SGPA2  SGPA3  SGPA4  SGPA5  CGPA5  \\\n",
       "0             Agree   2.38   2.93   3.31   2.10   3.68   2.88   \n",
       "1    Strongly Agree   2.05   3.86   3.69   3.02   3.21   3.17   \n",
       "2             Agree   1.23   2.92   3.05   2.94   3.13   2.65   \n",
       "3           Neutral   1.80   3.92   3.11   2.60   2.44   2.77   \n",
       "4           Neutral   1.44   2.29   3.87   3.35   2.28   2.65   \n",
       "..              ...    ...    ...    ...    ...    ...    ...   \n",
       "995           Agree   1.47   2.21   3.47   2.41   2.70   2.45   \n",
       "996  Strongly Agree   1.59   3.49   3.57   3.43   3.15   3.05   \n",
       "997         Neutral   3.19   3.09   3.55   3.10   3.69   3.32   \n",
       "998           Agree   3.55   3.26   2.50   2.14   2.46   2.78   \n",
       "999           Agree   1.93   2.90   3.53   3.92   3.78   3.21   \n",
       "\n",
       "    Time Consumed on Commuting Exam Stress Impact on Performance  \\\n",
       "0                     Disagree                 Strongly disagree   \n",
       "1               Strongly Agree                          Disagree   \n",
       "2                        Agree                    Strongly Agree   \n",
       "3                      Neutral                           Neutral   \n",
       "4                     Disagree                             Agree   \n",
       "..                         ...                               ...   \n",
       "995             Strongly Agree                           Neutral   \n",
       "996                      Agree                           Neutral   \n",
       "997             Strongly Agree                           Neutral   \n",
       "998                      Agree                    Strongly Agree   \n",
       "999                   Disagree                           Neutral   \n",
       "\n",
       "     Inter Percentage  \n",
       "0               70.91  \n",
       "1               93.89  \n",
       "2               87.03  \n",
       "3               86.73  \n",
       "4               79.46  \n",
       "..                ...  \n",
       "995             85.87  \n",
       "996             89.37  \n",
       "997             72.83  \n",
       "998             72.73  \n",
       "999             88.63  \n",
       "\n",
       "[1000 rows x 10 columns]"
      ]
     },
     "execution_count": 48,
     "metadata": {},
     "output_type": "execute_result"
    }
   ],
   "source": [
    "df "
   ]
  },
  {
   "cell_type": "code",
   "execution_count": 49,
   "metadata": {},
   "outputs": [],
   "source": [
    "df.to_csv('selected_student_info_dataset.csv', index=False)"
   ]
  },
  {
   "cell_type": "code",
   "execution_count": null,
   "metadata": {},
   "outputs": [],
   "source": []
  }
 ],
 "metadata": {
  "kernelspec": {
   "display_name": "Python 3",
   "language": "python",
   "name": "python3"
  },
  "language_info": {
   "codemirror_mode": {
    "name": "ipython",
    "version": 3
   },
   "file_extension": ".py",
   "mimetype": "text/x-python",
   "name": "python",
   "nbconvert_exporter": "python",
   "pygments_lexer": "ipython3",
   "version": "3.11.4"
  }
 },
 "nbformat": 4,
 "nbformat_minor": 2
}
